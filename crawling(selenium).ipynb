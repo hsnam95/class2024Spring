{
  "cells": [
    {
      "cell_type": "markdown",
      "metadata": {
        "id": "view-in-github",
        "colab_type": "text"
      },
      "source": [
        "<a href=\"https://colab.research.google.com/github/hsnam95/class2024Spring/blob/main/crawling(selenium).ipynb\" target=\"_parent\"><img src=\"https://colab.research.google.com/assets/colab-badge.svg\" alt=\"Open In Colab\"/></a>"
      ]
    },
    {
      "cell_type": "code",
      "execution_count": null,
      "metadata": {
        "id": "FVqnz0tcAVFM"
      },
      "outputs": [],
      "source": [
        "# https://wikidocs.net/149358\n",
        "%pip install selenium"
      ]
    },
    {
      "cell_type": "code",
      "execution_count": null,
      "metadata": {
        "id": "8xUALw60_lie"
      },
      "outputs": [],
      "source": [
        "from selenium import webdriver\n",
        "from selenium.webdriver.common.by import By\n",
        "from selenium.webdriver.support import expected_conditions as EC\n",
        "from selenium.webdriver.support.ui import WebDriverWait\n",
        "\n",
        "URL = \"https://product.kyobobook.co.kr/detail/S000000620181\"\n",
        "\n",
        "options = webdriver.ChromeOptions()\n",
        "options.add_argument(\" --headless\")\n",
        "options.add_argument(\" --disable-dev-shm-usage\")\n",
        "options.add_argument(\" --no-sandbox\")\n",
        "driver = webdriver.Chrome(options=options)\n",
        "driver.get(URL)\n",
        "w_driver = WebDriverWait(driver, 10)\n",
        "\n",
        "print(driver.title)\n",
        "# print(driver.page_source)\n",
        "driver.save_screenshot(\"screenshot.png\")\n",
        "# driver.quit()"
      ]
    },
    {
      "cell_type": "code",
      "execution_count": null,
      "metadata": {
        "id": "iU1ID2KO3dDn"
      },
      "outputs": [],
      "source": [
        "comment_texts = w_driver.until(EC.visibility_of_all_elements_located((By.CLASS_NAME, 'comment_text')))\n",
        "for tmp in comment_texts:\n",
        "    print(tmp.text)"
      ]
    },
    {
      "cell_type": "code",
      "execution_count": null,
      "metadata": {
        "id": "VAwABAPp0Pl4"
      },
      "outputs": [],
      "source": [
        "btn_page = w_driver.until(EC.element_to_be_clickable((By.CLASS_NAME, 'btn_page.next')))\n",
        "btn_page.click()"
      ]
    },
    {
      "cell_type": "code",
      "execution_count": 5,
      "metadata": {
        "id": "OjHrpif_AeYU"
      },
      "outputs": [],
      "source": [
        "interfering_elements = w_driver.until(EC.presence_of_all_elements_located((By.CSS_SELECTOR, \".right_area\")))\n",
        "for element in interfering_elements:\n",
        "    driver.execute_script(\"arguments[0].remove()\", element)\n",
        "interfering_elements = w_driver.until(EC.presence_of_all_elements_located((By.CSS_SELECTOR, \".prod_purchase_info_wrap\")))\n",
        "for element in interfering_elements:\n",
        "    driver.execute_script(\"arguments[0].remove()\", element)\n"
      ]
    },
    {
      "cell_type": "code",
      "execution_count": null,
      "metadata": {
        "id": "GvPhNhwYUg8s"
      },
      "outputs": [],
      "source": [
        "btn_page.click()\n",
        "comment_texts = w_driver.until(EC.visibility_of_all_elements_located((By.CLASS_NAME, 'comment_text')))\n",
        "for tmp in comment_texts:\n",
        "    print(tmp.text)"
      ]
    }
  ],
  "metadata": {
    "colab": {
      "provenance": [],
      "include_colab_link": true
    },
    "kernelspec": {
      "display_name": "Python 3",
      "name": "python3"
    },
    "language_info": {
      "codemirror_mode": {
        "name": "ipython",
        "version": 3
      },
      "file_extension": ".py",
      "mimetype": "text/x-python",
      "name": "python",
      "nbconvert_exporter": "python",
      "pygments_lexer": "ipython3",
      "version": "3.12.2"
    }
  },
  "nbformat": 4,
  "nbformat_minor": 0
}