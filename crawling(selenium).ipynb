{
  "cells": [
    {
      "cell_type": "markdown",
      "metadata": {
        "id": "view-in-github",
        "colab_type": "text"
      },
      "source": [
        "<a href=\"https://colab.research.google.com/github/hsnam95/class2024Spring/blob/main/crawling(selenium).ipynb\" target=\"_parent\"><img src=\"https://colab.research.google.com/assets/colab-badge.svg\" alt=\"Open In Colab\"/></a>"
      ]
    },
    {
      "cell_type": "code",
      "execution_count": null,
      "metadata": {
        "id": "FVqnz0tcAVFM"
      },
      "outputs": [],
      "source": [
        "# https://wikidocs.net/149358\n",
        "# https://velog.io/@skarb4788/Selenium-%EA%B8%B0%EC%B4%88\n",
        "# https://rubber-tree.tistory.com/88\n",
        "# https://wikidocs.net/85739\n",
        "%pip install selenium"
      ]
    },
    {
      "cell_type": "code",
      "execution_count": 101,
      "metadata": {
        "id": "8xUALw60_lie",
        "outputId": "c9122a1b-4a9f-438a-cac6-5e37e71b1dba",
        "colab": {
          "base_uri": "https://localhost:8080/"
        }
      },
      "outputs": [
        {
          "output_type": "stream",
          "name": "stdout",
          "text": [
            "데미안 | 헤르만 헤세 - 교보문고\n"
          ]
        },
        {
          "output_type": "execute_result",
          "data": {
            "text/plain": [
              "True"
            ]
          },
          "metadata": {},
          "execution_count": 101
        }
      ],
      "source": [
        "from selenium import webdriver\n",
        "from selenium.webdriver.common.by import By\n",
        "from selenium.webdriver.support import expected_conditions as EC\n",
        "from selenium.webdriver.support.ui import WebDriverWait\n",
        "\n",
        "URL = \"https://product.kyobobook.co.kr/detail/S000000620181\"\n",
        "\n",
        "options = webdriver.ChromeOptions()\n",
        "options.add_argument(\" --headless\")\n",
        "options.add_argument(\" --disable-dev-shm-usage\")\n",
        "options.add_argument(\" --no-sandbox\")\n",
        "driver = webdriver.Chrome(options=options)\n",
        "driver.get(URL)\n",
        "w_driver = WebDriverWait(driver, 5)\n",
        "\n",
        "print(driver.title)\n",
        "# print(driver.page_source)\n",
        "driver.save_screenshot(\"screenshot.png\")\n",
        "# driver.quit()"
      ]
    },
    {
      "cell_type": "code",
      "execution_count": 102,
      "metadata": {
        "id": "iU1ID2KO3dDn",
        "outputId": "5e1d0e76-6dc5-4baf-981f-0f680024d387",
        "colab": {
          "base_uri": "https://localhost:8080/"
        }
      },
      "outputs": [
        {
          "output_type": "stream",
          "name": "stdout",
          "text": [
            "현대소설로는 채워지지 않는 갈증이 있을때는\n",
            "고전 다시 읽기추천합니다\n",
            "십대에 읽던 것과는 다른 의미로 다가오네요\n",
            "과거로 돌아간다면 난 어느 시점으로 돌아가고 싶을까 철부지 20대 시절 그 빛나던 시절에 난 무엇을 했던가 생각없이 방황하던 그 시간들이 이제와 돌이켜보면 너무 안타깝다. 지금 이 시간도 언젠가 또 그렇게 느껴지겠지...\n",
            "구매추천합니다\n",
            "추천할게요\n",
            "따듯한 성장소설 , 물론 단순 성장소설이라기엔 내용이 훨씬 심오하지만 나 또한 내면적으로 좀 더 성장할 수 있었던..? 책\n",
            "데미안의 생각과 비슷하다\n",
            "잘 읽겠습니다.\n",
            "만족합니다.\n",
            "마음에 듭니다\n",
            "도서관에서 빌려보다가 다못읽어서 오늘 구입했네요.\n"
          ]
        }
      ],
      "source": [
        "comment_texts = w_driver.until(EC.visibility_of_all_elements_located((By.CLASS_NAME, 'comment_text')))\n",
        "for tmp in comment_texts:\n",
        "    print(tmp.text)"
      ]
    },
    {
      "cell_type": "code",
      "execution_count": null,
      "metadata": {
        "id": "VAwABAPp0Pl4"
      },
      "outputs": [],
      "source": [
        "btn_page = w_driver.until(EC.element_to_be_clickable((By.CLASS_NAME, 'btn_page.next')))\n",
        "btn_page.click()"
      ]
    },
    {
      "cell_type": "code",
      "execution_count": 103,
      "metadata": {
        "id": "OjHrpif_AeYU"
      },
      "outputs": [],
      "source": [
        "interfering_elements = w_driver.until(EC.presence_of_all_elements_located((By.CSS_SELECTOR, \".right_area\")))\n",
        "for element in interfering_elements:\n",
        "    driver.execute_script(\"arguments[0].remove()\", element)\n",
        "interfering_elements = w_driver.until(EC.presence_of_all_elements_located((By.CSS_SELECTOR, \".prod_purchase_info_wrap\")))\n",
        "for element in interfering_elements:\n",
        "    driver.execute_script(\"arguments[0].remove()\", element)\n"
      ]
    },
    {
      "cell_type": "code",
      "source": [
        "from bs4 import BeautifulSoup\n",
        "html = driver.page_source\n",
        "soup = BeautifulSoup(html, 'html.parser')\n",
        "\n",
        "last_page = soup.select_one(\"#ReviewList1 > div.tab_wrap.type_sm > div.tab_content > div > div.pagination > div > a:nth-child(10)\")\n",
        "last_page_num = int(last_page.get_text())"
      ],
      "metadata": {
        "id": "ObD0ciJzv2K8"
      },
      "execution_count": 104,
      "outputs": []
    },
    {
      "cell_type": "code",
      "execution_count": null,
      "metadata": {
        "id": "GvPhNhwYUg8s"
      },
      "outputs": [],
      "source": [
        "import time\n",
        "for n in range(last_page_num-1):\n",
        "  time.sleep(5)\n",
        "  btn_page.click()\n",
        "  comment_texts = w_driver.until(EC.visibility_of_all_elements_located((By.CLASS_NAME, 'comment_text')))\n",
        "  for tmp in comment_texts:\n",
        "      print(tmp.text)"
      ]
    }
  ],
  "metadata": {
    "colab": {
      "provenance": [],
      "include_colab_link": true
    },
    "kernelspec": {
      "display_name": "Python 3",
      "name": "python3"
    },
    "language_info": {
      "codemirror_mode": {
        "name": "ipython",
        "version": 3
      },
      "file_extension": ".py",
      "mimetype": "text/x-python",
      "name": "python",
      "nbconvert_exporter": "python",
      "pygments_lexer": "ipython3",
      "version": "3.12.2"
    }
  },
  "nbformat": 4,
  "nbformat_minor": 0
}