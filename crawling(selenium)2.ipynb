{
  "cells": [
    {
      "cell_type": "markdown",
      "metadata": {
        "id": "view-in-github",
        "colab_type": "text"
      },
      "source": [
        "<a href=\"https://colab.research.google.com/github/hsnam95/class2024Spring/blob/main/crawling(selenium)2.ipynb\" target=\"_parent\"><img src=\"https://colab.research.google.com/assets/colab-badge.svg\" alt=\"Open In Colab\"/></a>"
      ]
    },
    {
      "cell_type": "code",
      "execution_count": null,
      "metadata": {
        "id": "FVqnz0tcAVFM"
      },
      "outputs": [],
      "source": [
        "# https://wikidocs.net/149358\n",
        "# https://velog.io/@skarb4788/Selenium-%EA%B8%B0%EC%B4%88\n",
        "# https://rubber-tree.tistory.com/88\n",
        "# https://wikidocs.net/85739\n",
        "# https://hogni.tistory.com/12\n",
        "%pip install selenium"
      ]
    },
    {
      "cell_type": "code",
      "execution_count": null,
      "metadata": {
        "id": "8xUALw60_lie"
      },
      "outputs": [],
      "source": [
        "from selenium import webdriver\n",
        "from selenium.webdriver.common.by import By\n",
        "from selenium.webdriver.support import expected_conditions as EC\n",
        "from selenium.webdriver.support.ui import WebDriverWait\n",
        "\n",
        "URL = \"https://mdirect.lina.co.kr/product/insurance-product-cm/productView_P00176\"\n",
        "\n",
        "options = webdriver.ChromeOptions()\n",
        "options.add_argument(\" --headless\")\n",
        "options.add_argument(\" --disable-dev-shm-usage\")\n",
        "options.add_argument(\" --no-sandbox\")\n",
        "driver = webdriver.Chrome(options=options)\n",
        "driver.get(URL)\n",
        "w_driver = WebDriverWait(driver, 5)\n",
        "\n",
        "print(driver.title)\n",
        "# print(driver.page_source)\n",
        "driver.save_screenshot(\"screenshot.png\")\n",
        "# driver.quit()"
      ]
    },
    {
      "cell_type": "code",
      "source": [
        "el_dob = driver.find_element(By.XPATH, '//*[@id=\"insurancePriceForm\"]/form/div[2]/div/div/div/input')\n",
        "el_dob.send_keys('721007')\n",
        "\n",
        "el_gender = driver.find_element(By.XPATH, '//*[@id=\"gender\"]/span[2]')\n",
        "el_gender.click()\n",
        "\n",
        "interfering_elements = w_driver.until(EC.presence_of_all_elements_located((By.CSS_SELECTOR, \"#mktBnr > div > a\")))\n",
        "for element in interfering_elements:\n",
        "    driver.execute_script(\"arguments[0].remove()\", element)\n",
        "interfering_elements = w_driver.until(EC.presence_of_all_elements_located((By.CSS_SELECTOR, '#closeMktBnr > i')))\n",
        "for element in interfering_elements:\n",
        "    driver.execute_script(\"arguments[0].remove()\", element)\n",
        "\n",
        "el_ok = driver.find_element(By.XPATH, '//*[@id=\"insurancePriceForm\"]/div/button')\n",
        "el_ok.click()"
      ],
      "metadata": {
        "id": "CBkkb7R4fNUe"
      },
      "execution_count": 87,
      "outputs": []
    },
    {
      "cell_type": "code",
      "source": [
        "from bs4 import BeautifulSoup\n",
        "html = driver.page_source\n",
        "soup = BeautifulSoup(html, 'html.parser')\n",
        "premium = soup.select_one('#__layout > div> div.l-container > div> div > div.content> div.tab > div>button>span>p.price>span').get_text()\n",
        "# ~~: tag, # ~~: ID, . ~~:class\n",
        "premium"
      ],
      "metadata": {
        "id": "9BGmc7fMtCFL"
      },
      "execution_count": null,
      "outputs": []
    },
    {
      "cell_type": "code",
      "source": [
        "soup.select_one('#__layout > div> div.l-container > div> div > div.content>div')"
      ],
      "metadata": {
        "id": "ldWsg6yG2n0j",
        "outputId": "d9e3130e-6b7e-4b6e-9945-af9c15bd6069",
        "colab": {
          "base_uri": "https://localhost:8080/"
        }
      },
      "execution_count": 91,
      "outputs": [
        {
          "output_type": "execute_result",
          "data": {
            "text/plain": [
              "<div class=\"tab\" data-v-cb408cb6=\"\"><div class=\"tab-header\" data-v-cb408cb6=\"\"><button class=\"el-button tab-item title-btn- active\" data-v-1092ea21=\"\" data-v-cb408cb6=\"\" type=\"button\"><!-- --><!-- --><span><p class=\"tit\" data-v-cb408cb6=\"\">\n",
              "            집중보장<i class=\"icon-Check icon\" data-v-cb408cb6=\"\"></i></p> <p class=\"price\" data-v-cb408cb6=\"\"><span class=\"bold\" data-v-cb408cb6=\"\">58,394원</span>/월\n",
              "          </p> <!-- --> <!-- --> <!-- --> <!-- --> <!-- --> <!-- --> <!-- --> <!-- --> <!-- --> <!-- --></span></button><button class=\"el-button tab-item title-btn-\" data-v-1092ea21=\"\" data-v-cb408cb6=\"\" type=\"button\"><!-- --><!-- --><span><p class=\"tit\" data-v-cb408cb6=\"\">\n",
              "            맞춤보장<!-- --></p> <p class=\"price\" data-v-cb408cb6=\"\"><span class=\"bold\" data-v-cb408cb6=\"\">16,781원</span>/월\n",
              "          </p> <!-- --> <!-- --> <!-- --> <!-- --> <!-- --> <!-- --> <!-- --> <!-- --> <!-- --> <!-- --></span></button></div></div>"
            ]
          },
          "metadata": {},
          "execution_count": 91
        }
      ]
    }
  ],
  "metadata": {
    "colab": {
      "provenance": [],
      "include_colab_link": true
    },
    "kernelspec": {
      "display_name": "Python 3",
      "name": "python3"
    },
    "language_info": {
      "codemirror_mode": {
        "name": "ipython",
        "version": 3
      },
      "file_extension": ".py",
      "mimetype": "text/x-python",
      "name": "python",
      "nbconvert_exporter": "python",
      "pygments_lexer": "ipython3",
      "version": "3.12.2"
    }
  },
  "nbformat": 4,
  "nbformat_minor": 0
}