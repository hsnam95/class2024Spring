{
  "nbformat": 4,
  "nbformat_minor": 0,
  "metadata": {
    "colab": {
      "provenance": [],
      "authorship_tag": "ABX9TyOxVPRb02Y8DYglSB0MOFRL",
      "include_colab_link": true
    },
    "kernelspec": {
      "name": "python3",
      "display_name": "Python 3"
    },
    "language_info": {
      "name": "python"
    }
  },
  "cells": [
    {
      "cell_type": "markdown",
      "metadata": {
        "id": "view-in-github",
        "colab_type": "text"
      },
      "source": [
        "<a href=\"https://colab.research.google.com/github/hsnam95/class2024Spring/blob/main/selenium_demo.ipynb\" target=\"_parent\"><img src=\"https://colab.research.google.com/assets/colab-badge.svg\" alt=\"Open In Colab\"/></a>"
      ]
    },
    {
      "cell_type": "code",
      "source": [
        "!pip install selenium\n",
        "# https://wikidocs.net/149358"
      ],
      "metadata": {
        "colab": {
          "base_uri": "https://localhost:8080/"
        },
        "id": "FVqnz0tcAVFM",
        "outputId": "0adaffd2-1e78-43b9-e541-52a4ea508ab4"
      },
      "execution_count": 1,
      "outputs": [
        {
          "output_type": "stream",
          "name": "stdout",
          "text": [
            "Collecting selenium\n",
            "  Downloading selenium-4.18.1-py3-none-any.whl (10.0 MB)\n",
            "\u001b[2K     \u001b[90m━━━━━━━━━━━━━━━━━━━━━━━━━━━━━━━━━━━━━━━━\u001b[0m \u001b[32m10.0/10.0 MB\u001b[0m \u001b[31m9.1 MB/s\u001b[0m eta \u001b[36m0:00:00\u001b[0m\n",
            "\u001b[?25hRequirement already satisfied: urllib3[socks]<3,>=1.26 in /usr/local/lib/python3.10/dist-packages (from selenium) (2.0.7)\n",
            "Collecting trio~=0.17 (from selenium)\n",
            "  Downloading trio-0.25.0-py3-none-any.whl (467 kB)\n",
            "\u001b[2K     \u001b[90m━━━━━━━━━━━━━━━━━━━━━━━━━━━━━━━━━━━━━━━━\u001b[0m \u001b[32m467.2/467.2 kB\u001b[0m \u001b[31m8.9 MB/s\u001b[0m eta \u001b[36m0:00:00\u001b[0m\n",
            "\u001b[?25hCollecting trio-websocket~=0.9 (from selenium)\n",
            "  Downloading trio_websocket-0.11.1-py3-none-any.whl (17 kB)\n",
            "Requirement already satisfied: certifi>=2021.10.8 in /usr/local/lib/python3.10/dist-packages (from selenium) (2024.2.2)\n",
            "Requirement already satisfied: typing_extensions>=4.9.0 in /usr/local/lib/python3.10/dist-packages (from selenium) (4.10.0)\n",
            "Requirement already satisfied: attrs>=23.2.0 in /usr/local/lib/python3.10/dist-packages (from trio~=0.17->selenium) (23.2.0)\n",
            "Requirement already satisfied: sortedcontainers in /usr/local/lib/python3.10/dist-packages (from trio~=0.17->selenium) (2.4.0)\n",
            "Requirement already satisfied: idna in /usr/local/lib/python3.10/dist-packages (from trio~=0.17->selenium) (3.6)\n",
            "Collecting outcome (from trio~=0.17->selenium)\n",
            "  Downloading outcome-1.3.0.post0-py2.py3-none-any.whl (10 kB)\n",
            "Requirement already satisfied: sniffio>=1.3.0 in /usr/local/lib/python3.10/dist-packages (from trio~=0.17->selenium) (1.3.1)\n",
            "Requirement already satisfied: exceptiongroup in /usr/local/lib/python3.10/dist-packages (from trio~=0.17->selenium) (1.2.0)\n",
            "Collecting wsproto>=0.14 (from trio-websocket~=0.9->selenium)\n",
            "  Downloading wsproto-1.2.0-py3-none-any.whl (24 kB)\n",
            "Requirement already satisfied: pysocks!=1.5.7,<2.0,>=1.5.6 in /usr/local/lib/python3.10/dist-packages (from urllib3[socks]<3,>=1.26->selenium) (1.7.1)\n",
            "Collecting h11<1,>=0.9.0 (from wsproto>=0.14->trio-websocket~=0.9->selenium)\n",
            "  Downloading h11-0.14.0-py3-none-any.whl (58 kB)\n",
            "\u001b[2K     \u001b[90m━━━━━━━━━━━━━━━━━━━━━━━━━━━━━━━━━━━━━━━━\u001b[0m \u001b[32m58.3/58.3 kB\u001b[0m \u001b[31m3.8 MB/s\u001b[0m eta \u001b[36m0:00:00\u001b[0m\n",
            "\u001b[?25hInstalling collected packages: outcome, h11, wsproto, trio, trio-websocket, selenium\n",
            "Successfully installed h11-0.14.0 outcome-1.3.0.post0 selenium-4.18.1 trio-0.25.0 trio-websocket-0.11.1 wsproto-1.2.0\n"
          ]
        }
      ]
    },
    {
      "cell_type": "code",
      "source": [
        "from selenium import webdriver\n",
        "\n",
        "URL = \"https://product.kyobobook.co.kr/detail/S000000620181\"\n",
        "\n",
        "options = webdriver.ChromeOptions()\n",
        "options.add_argument(\" --headless\")\n",
        "options.add_argument(\" --disable-dev-shm-usage\")\n",
        "options.add_argument(\" --no-sandbox\")\n",
        "\n",
        "driver = webdriver.Chrome(options=options)\n",
        "\n",
        "driver.get(URL)\n",
        "print(driver.title)\n",
        "# driver.close()"
      ],
      "metadata": {
        "colab": {
          "base_uri": "https://localhost:8080/"
        },
        "id": "8xUALw60_lie",
        "outputId": "3e7b8027-b94d-4c78-87d8-0ad548693a84"
      },
      "execution_count": 2,
      "outputs": [
        {
          "output_type": "stream",
          "name": "stdout",
          "text": [
            "데미안 | 헤르만 헤세 - 교보문고\n"
          ]
        }
      ]
    },
    {
      "cell_type": "code",
      "source": [
        "from selenium.webdriver.common.by import By\n",
        "# comment_text = driver.find_element(By.CLASS_NAME, 'comment_text')\n",
        "btn_page = driver.find_element(By.CLASS_NAME, 'btn_page.next')"
      ],
      "metadata": {
        "id": "kqtwa4PKA1UO"
      },
      "execution_count": 17,
      "outputs": []
    },
    {
      "cell_type": "code",
      "source": [
        "interfering_element = driver.find_element(By.CSS_SELECTOR, \".right_area\")\n",
        "driver.execute_script(\"arguments[0].remove()\", interfering_element)\n",
        "interfering_element = driver.find_element(By.CSS_SELECTOR, \".prod_purchase_info_wrap\")\n",
        "driver.execute_script(\"arguments[0].remove()\", interfering_element)\n",
        "\n",
        "btn_page.click()"
      ],
      "metadata": {
        "id": "1IXGQJcjGiOa"
      },
      "execution_count": 9,
      "outputs": []
    },
    {
      "cell_type": "code",
      "source": [
        "comment_text = driver.find_elements(By.CLASS_NAME, 'comment_text')\n",
        "comment_text"
      ],
      "metadata": {
        "colab": {
          "base_uri": "https://localhost:8080/"
        },
        "id": "iU1ID2KO3dDn",
        "outputId": "59663911-d2e7-4e8a-ba19-4b8ca453414b"
      },
      "execution_count": 19,
      "outputs": [
        {
          "output_type": "execute_result",
          "data": {
            "text/plain": [
              "[<selenium.webdriver.remote.webelement.WebElement (session=\"63c0658776a99037f758e15ed840e667\", element=\"f.E0EE6A9D19812435C055A91458AC4DF6.d.815AA5E38CF0CA2CA4DE272A4ED891F7.e.146\")>,\n",
              " <selenium.webdriver.remote.webelement.WebElement (session=\"63c0658776a99037f758e15ed840e667\", element=\"f.E0EE6A9D19812435C055A91458AC4DF6.d.815AA5E38CF0CA2CA4DE272A4ED891F7.e.148\")>,\n",
              " <selenium.webdriver.remote.webelement.WebElement (session=\"63c0658776a99037f758e15ed840e667\", element=\"f.E0EE6A9D19812435C055A91458AC4DF6.d.815AA5E38CF0CA2CA4DE272A4ED891F7.e.149\")>,\n",
              " <selenium.webdriver.remote.webelement.WebElement (session=\"63c0658776a99037f758e15ed840e667\", element=\"f.E0EE6A9D19812435C055A91458AC4DF6.d.815AA5E38CF0CA2CA4DE272A4ED891F7.e.150\")>,\n",
              " <selenium.webdriver.remote.webelement.WebElement (session=\"63c0658776a99037f758e15ed840e667\", element=\"f.E0EE6A9D19812435C055A91458AC4DF6.d.815AA5E38CF0CA2CA4DE272A4ED891F7.e.151\")>,\n",
              " <selenium.webdriver.remote.webelement.WebElement (session=\"63c0658776a99037f758e15ed840e667\", element=\"f.E0EE6A9D19812435C055A91458AC4DF6.d.815AA5E38CF0CA2CA4DE272A4ED891F7.e.152\")>,\n",
              " <selenium.webdriver.remote.webelement.WebElement (session=\"63c0658776a99037f758e15ed840e667\", element=\"f.E0EE6A9D19812435C055A91458AC4DF6.d.815AA5E38CF0CA2CA4DE272A4ED891F7.e.153\")>,\n",
              " <selenium.webdriver.remote.webelement.WebElement (session=\"63c0658776a99037f758e15ed840e667\", element=\"f.E0EE6A9D19812435C055A91458AC4DF6.d.815AA5E38CF0CA2CA4DE272A4ED891F7.e.154\")>,\n",
              " <selenium.webdriver.remote.webelement.WebElement (session=\"63c0658776a99037f758e15ed840e667\", element=\"f.E0EE6A9D19812435C055A91458AC4DF6.d.815AA5E38CF0CA2CA4DE272A4ED891F7.e.155\")>,\n",
              " <selenium.webdriver.remote.webelement.WebElement (session=\"63c0658776a99037f758e15ed840e667\", element=\"f.E0EE6A9D19812435C055A91458AC4DF6.d.815AA5E38CF0CA2CA4DE272A4ED891F7.e.156\")>]"
            ]
          },
          "metadata": {},
          "execution_count": 19
        }
      ]
    },
    {
      "cell_type": "code",
      "source": [
        "\n",
        "# 2. Enter text into input fields:\n",
        "element.send_keys(\"your search query\")\n",
        "\n",
        "# 3. Click buttons:\n",
        "button = driver.find_element_by_class_name(\"search_button\")\n",
        "button.click()\n",
        "\n",
        "# 4. Get the text of an element:\n",
        "text = element.text\n",
        "\n",
        "# 5. Get the HTML of the entire page:\n",
        "html = driver.page_source\n",
        "\n",
        "# 6. Take a screenshot of the page:\n",
        "driver.save_screenshot(\"screenshot.png\")\n",
        "\n",
        "# 7. Execute JavaScript code on the page:\n",
        "driver.execute_script(\"alert('Hello, world!')\")\n",
        "\n",
        "# 8. Wait for a certain element to be present on the page:\n",
        "wait = WebDriverWait(driver, 10)\n",
        "element = wait.until(EC.presence_of_element_located((By.ID, \"search_results\")))\n",
        "\n",
        "# 9. Switch to a different window or frame:\n",
        "driver.switch_to.window(driver.window_handles[1])\n",
        "\n",
        "# 10. Close the browser:\n",
        "driver.quit()\n"
      ],
      "metadata": {
        "id": "YxiVfiBDFvXs"
      },
      "execution_count": null,
      "outputs": []
    }
  ]
}