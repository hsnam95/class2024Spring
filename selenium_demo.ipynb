{
  "nbformat": 4,
  "nbformat_minor": 0,
  "metadata": {
    "colab": {
      "provenance": [],
      "authorship_tag": "ABX9TyOBZeyDMgCZuyk88oM/FUYB",
      "include_colab_link": true
    },
    "kernelspec": {
      "name": "python3",
      "display_name": "Python 3"
    },
    "language_info": {
      "name": "python"
    }
  },
  "cells": [
    {
      "cell_type": "markdown",
      "metadata": {
        "id": "view-in-github",
        "colab_type": "text"
      },
      "source": [
        "<a href=\"https://colab.research.google.com/github/hsnam95/class2024Spring/blob/main/selenium_demo.ipynb\" target=\"_parent\"><img src=\"https://colab.research.google.com/assets/colab-badge.svg\" alt=\"Open In Colab\"/></a>"
      ]
    },
    {
      "cell_type": "code",
      "source": [
        "!pip install selenium\n",
        "# https://wikidocs.net/149358"
      ],
      "metadata": {
        "colab": {
          "base_uri": "https://localhost:8080/"
        },
        "id": "FVqnz0tcAVFM",
        "outputId": "3d332fb4-5c17-4dc1-f466-b2c3a73c50bb"
      },
      "execution_count": 30,
      "outputs": [
        {
          "output_type": "stream",
          "name": "stdout",
          "text": [
            "Requirement already satisfied: selenium in /usr/local/lib/python3.10/dist-packages (4.18.1)\n",
            "Requirement already satisfied: urllib3[socks]<3,>=1.26 in /usr/local/lib/python3.10/dist-packages (from selenium) (2.0.7)\n",
            "Requirement already satisfied: trio~=0.17 in /usr/local/lib/python3.10/dist-packages (from selenium) (0.25.0)\n",
            "Requirement already satisfied: trio-websocket~=0.9 in /usr/local/lib/python3.10/dist-packages (from selenium) (0.11.1)\n",
            "Requirement already satisfied: certifi>=2021.10.8 in /usr/local/lib/python3.10/dist-packages (from selenium) (2024.2.2)\n",
            "Requirement already satisfied: typing_extensions>=4.9.0 in /usr/local/lib/python3.10/dist-packages (from selenium) (4.10.0)\n",
            "Requirement already satisfied: attrs>=23.2.0 in /usr/local/lib/python3.10/dist-packages (from trio~=0.17->selenium) (23.2.0)\n",
            "Requirement already satisfied: sortedcontainers in /usr/local/lib/python3.10/dist-packages (from trio~=0.17->selenium) (2.4.0)\n",
            "Requirement already satisfied: idna in /usr/local/lib/python3.10/dist-packages (from trio~=0.17->selenium) (3.6)\n",
            "Requirement already satisfied: outcome in /usr/local/lib/python3.10/dist-packages (from trio~=0.17->selenium) (1.3.0.post0)\n",
            "Requirement already satisfied: sniffio>=1.3.0 in /usr/local/lib/python3.10/dist-packages (from trio~=0.17->selenium) (1.3.1)\n",
            "Requirement already satisfied: exceptiongroup in /usr/local/lib/python3.10/dist-packages (from trio~=0.17->selenium) (1.2.0)\n",
            "Requirement already satisfied: wsproto>=0.14 in /usr/local/lib/python3.10/dist-packages (from trio-websocket~=0.9->selenium) (1.2.0)\n",
            "Requirement already satisfied: pysocks!=1.5.7,<2.0,>=1.5.6 in /usr/local/lib/python3.10/dist-packages (from urllib3[socks]<3,>=1.26->selenium) (1.7.1)\n",
            "Requirement already satisfied: h11<1,>=0.9.0 in /usr/local/lib/python3.10/dist-packages (from wsproto>=0.14->trio-websocket~=0.9->selenium) (0.14.0)\n"
          ]
        }
      ]
    },
    {
      "cell_type": "code",
      "source": [
        "from selenium import webdriver\n",
        "\n",
        "URL = \"https://product.kyobobook.co.kr/detail/S000000620181\"\n",
        "\n",
        "options = webdriver.ChromeOptions()\n",
        "options.add_argument(\" --headless\")\n",
        "options.add_argument(\" --disable-dev-shm-usage\")\n",
        "options.add_argument(\" --no-sandbox\")\n",
        "\n",
        "driver = webdriver.Chrome(options=options)\n",
        "\n",
        "driver.get(URL)\n",
        "print(driver.title)\n",
        "# driver.close()"
      ],
      "metadata": {
        "colab": {
          "base_uri": "https://localhost:8080/"
        },
        "id": "8xUALw60_lie",
        "outputId": "a41f94aa-7efa-46e5-eb1f-a94d78187f84"
      },
      "execution_count": 31,
      "outputs": [
        {
          "output_type": "stream",
          "name": "stdout",
          "text": [
            "데미안 | 헤르만 헤세 - 교보문고\n"
          ]
        }
      ]
    },
    {
      "cell_type": "code",
      "source": [
        "from selenium.webdriver.common.by import By\n",
        "btn_page = driver.find_element(By.CLASS_NAME, 'btn_page.next')\n",
        "interfering_element = driver.find_element(By.CSS_SELECTOR, \".right_area\")\n",
        "driver.execute_script(\"arguments[0].remove()\", interfering_element)\n",
        "interfering_element = driver.find_element(By.CSS_SELECTOR, \".prod_purchase_info_wrap\")\n",
        "driver.execute_script(\"arguments[0].remove()\", interfering_element)\n",
        "\n",
        "btn_page.click()"
      ],
      "metadata": {
        "id": "kqtwa4PKA1UO"
      },
      "execution_count": 34,
      "outputs": []
    },
    {
      "cell_type": "code",
      "source": [
        "comment_text = driver.find_elements(By.CLASS_NAME, 'comment_text')\n",
        "for tmp in comment_text:\n",
        "  print(tmp.text)"
      ],
      "metadata": {
        "colab": {
          "base_uri": "https://localhost:8080/"
        },
        "id": "iU1ID2KO3dDn",
        "outputId": "13ba0232-ce4a-4b31-a24f-6235ab71156a"
      },
      "execution_count": 32,
      "outputs": [
        {
          "output_type": "stream",
          "name": "stdout",
          "text": [
            "현대소설로는 채워지지 않는 갈증이 있을때는\n",
            "고전 다시 읽기추천합니다\n",
            "십대에 읽던 것과는 다른 의미로 다가오네요\n",
            "과거로 돌아간다면 난 어느 시점으로 돌아가고 싶을까 철부지 20대 시절 그 빛나던 시절에 난 무엇을 했던가 생각없이 방황하던 그 시간들이 이제와 돌이켜보면 너무 안타깝다. 지금 이 시간도 언젠가 또 그렇게 느껴지겠지...\n",
            "구매추천합니다\n",
            "추천할게요\n",
            "따듯한 성장소설 , 물론 단순 성장소설이라기엔 내용이 훨씬 심오하지만 나 또한 내면적으로 좀 더 성장할 수 있었던..? 책\n",
            "데미안의 생각과 비슷하다\n",
            "잘 읽겠습니다.\n",
            "만족합니다.\n",
            "마음에 듭니다\n",
            "도서관에서 빌려보다가 다못읽어서 오늘 구입했네요.\n"
          ]
        }
      ]
    },
    {
      "cell_type": "code",
      "source": [
        "from selenium.webdriver.common.by import By\n",
        "btn_page = driver.find_element(By.CLASS_NAME, 'btn_page.next')\n",
        "\n",
        "btn_page.click()"
      ],
      "metadata": {
        "id": "b2lcGr6u-Xpy"
      },
      "execution_count": 35,
      "outputs": []
    },
    {
      "cell_type": "code",
      "source": [
        "comment_text = driver.find_elements(By.CLASS_NAME, 'comment_text')\n",
        "for tmp in comment_text:\n",
        "  print(tmp.text)"
      ],
      "metadata": {
        "colab": {
          "base_uri": "https://localhost:8080/"
        },
        "id": "ruKepDXT-a14",
        "outputId": "9d7e4ac1-7997-428e-d224-f34dd3a8c9e6"
      },
      "execution_count": 36,
      "outputs": [
        {
          "output_type": "stream",
          "name": "stdout",
          "text": [
            "학생때 읽었던것과 또 다른 느낌\n",
            "유명한 데미안 드디어 사서 읽어봅니다\n",
            "20대후반에 읽고 40대후반에 다시 읽어보니 받아들이는게 다르네요 철학적인 내용이 좋았어요\n",
            "생각하게 하는 책\n",
            "어렵습니당\n",
            "헤세의 책은 영감을 줍니다.\n",
            "전형적인 성장소설.\n",
            "'새는 알에서 나오려고 투쟁한다. 알은 세계이다. 태어나려는 자는 하나의 세계를 깨뜨려야 한다. 새는 신에게로 날아간다. 신의 이름은 압락사스' 이 문장 하나만으로도 읽을 가치가 충분해요.\n",
            "추억이 돋는 책 어른이되어 다시보니 색다른 경험\n",
            "고전이 달리 고전이겠습니까?\n"
          ]
        }
      ]
    },
    {
      "cell_type": "code",
      "source": [
        "\n",
        "# 2. Enter text into input fields:\n",
        "element.send_keys(\"your search query\")\n",
        "\n",
        "# 3. Click buttons:\n",
        "button = driver.find_element_by_class_name(\"search_button\")\n",
        "button.click()\n",
        "\n",
        "# 4. Get the text of an element:\n",
        "text = element.text\n",
        "\n",
        "# 5. Get the HTML of the entire page:\n",
        "html = driver.page_source\n",
        "\n",
        "# 6. Take a screenshot of the page:\n",
        "driver.save_screenshot(\"screenshot.png\")\n",
        "\n",
        "# 7. Execute JavaScript code on the page:\n",
        "driver.execute_script(\"alert('Hello, world!')\")\n",
        "\n",
        "# 8. Wait for a certain element to be present on the page:\n",
        "wait = WebDriverWait(driver, 10)\n",
        "element = wait.until(EC.presence_of_element_located((By.ID, \"search_results\")))\n",
        "\n",
        "# 9. Switch to a different window or frame:\n",
        "driver.switch_to.window(driver.window_handles[1])\n",
        "\n",
        "# 10. Close the browser:\n",
        "driver.quit()\n"
      ],
      "metadata": {
        "id": "YxiVfiBDFvXs"
      },
      "execution_count": null,
      "outputs": []
    }
  ]
}